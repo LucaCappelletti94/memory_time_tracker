{
 "cells": [
  {
   "cell_type": "code",
   "execution_count": null,
   "id": "41998a33",
   "metadata": {},
   "outputs": [],
   "source": [
    "from memory_time_tracker import Tracker\n",
    "from time import sleep\n",
    "import pandas as pd"
   ]
  },
  {
   "cell_type": "code",
   "execution_count": null,
   "id": "5b28c10b",
   "metadata": {},
   "outputs": [],
   "source": [
    "def example_function():\n",
    "    \"\"\"Small example of function that takes 1 second.\"\"\"\n",
    "    for _ in range(10):\n",
    "        sleep(0.1)"
   ]
  },
  {
   "cell_type": "code",
   "execution_count": null,
   "id": "ca040eaa",
   "metadata": {},
   "outputs": [],
   "source": [
    "# The path where we will store the log\n",
    "path = \"/tmp/tracker.csv\"\n",
    "\n",
    "# Create the tracker context\n",
    "with Tracker(path):\n",
    "    example_function()\n",
    "    \n",
    "# Load the resulting log as a pandas dataframe\n",
    "pd.read_csv(path)"
   ]
  }
 ],
 "metadata": {
  "kernelspec": {
   "display_name": "Python 3 (ipykernel)",
   "language": "python",
   "name": "python3"
  },
  "language_info": {
   "codemirror_mode": {
    "name": "ipython",
    "version": 3
   },
   "file_extension": ".py",
   "mimetype": "text/x-python",
   "name": "python",
   "nbconvert_exporter": "python",
   "pygments_lexer": "ipython3",
   "version": "3.7.13"
  }
 },
 "nbformat": 4,
 "nbformat_minor": 5
}
