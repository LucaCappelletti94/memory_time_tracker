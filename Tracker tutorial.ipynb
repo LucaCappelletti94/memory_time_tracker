{
 "cells": [
  {
   "cell_type": "code",
   "execution_count": null,
   "id": "61b8dc59",
   "metadata": {},
   "outputs": [],
   "source": [
    "from memory_time_tracker import Tracker\n",
    "from time import sleep\n",
    "import pandas as pd"
   ]
  },
  {
   "cell_type": "code",
   "execution_count": null,
   "id": "f2b8af9c",
   "metadata": {},
   "outputs": [],
   "source": [
    "def example_function():\n",
    "    \"\"\"Small example of function that takes 1 second.\"\"\"\n",
    "    arrays = []\n",
    "    for _ in range(10):\n",
    "        sleep(0.1)"
   ]
  },
  {
   "cell_type": "code",
   "execution_count": null,
   "id": "ca040eaa",
   "metadata": {},
   "outputs": [],
   "source": [
    "# The path where we will store the log\n",
    "path = \"/tmp/tracker.csv\"\n",
    "\n",
    "# Create the tracker context\n",
    "with Tracker(path):\n",
    "    example_function()\n",
    "    \n",
    "print(\n",
    "    \"Successful: \", has_completed_successfully(path),\n",
    "    \"Crashed gracefully: \", has_crashed_gracefully(path),\n",
    "    \"Crashed ungracefully: \", has_crashed_ungracefully(path)\n",
    ")\n",
    "    \n",
    "# We load in a pandas DataFrame the tracked performance.\n",
    "df = pd.read_csv(\n",
    "    path,\n",
    "    # The last line of the footer is used to mark whether\n",
    "    # the execution was successfull or a crash happened \n",
    "    # and the logger died.\n",
    "    skipfooter=1,\n",
    "    # The skipfooter option is only available when the engine\n",
    "    # selected is Python\n",
    "    engine=\"python\"\n",
    ")\n",
    "\n",
    "display(df)"
   ]
  }
 ],
 "metadata": {
  "kernelspec": {
   "display_name": "Python 3 (ipykernel)",
   "language": "python",
   "name": "python3"
  },
  "language_info": {
   "codemirror_mode": {
    "name": "ipython",
    "version": 3
   },
   "file_extension": ".py",
   "mimetype": "text/x-python",
   "name": "python",
   "nbconvert_exporter": "python",
   "pygments_lexer": "ipython3",
   "version": "3.7.13"
  }
 },
 "nbformat": 4,
 "nbformat_minor": 5
}
