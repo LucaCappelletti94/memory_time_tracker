{
 "cells": [
  {
   "cell_type": "code",
   "execution_count": null,
   "id": "2048af49",
   "metadata": {},
   "outputs": [],
   "source": [
    "! pip install memory_time_tracker -qU"
   ]
  },
  {
   "cell_type": "code",
   "execution_count": null,
   "id": "5cda4014",
   "metadata": {},
   "outputs": [],
   "source": [
    "from memory_time_tracker import Tracker, has_completed_successfully, has_crashed_gracefully, has_crashed_ungracefully, plot_reports\n",
    "from time import sleep\n",
    "import numpy as np"
   ]
  },
  {
   "cell_type": "code",
   "execution_count": null,
   "id": "eeff9f39",
   "metadata": {},
   "outputs": [],
   "source": [
    "def example_function():\n",
    "    \"\"\"Small example of function that takes 2 seconds.\"\"\"\n",
    "    arrays = []\n",
    "    for _ in range(10):\n",
    "        arrays.append(np.zeros((10000, 10000)))\n",
    "        sleep(0.2)\n",
    "\n",
    "def example_function_which_crashes():\n",
    "    \"\"\"Small example of function that takes 2 seconds and crashes.\"\"\"\n",
    "    arrays = []\n",
    "    for _ in range(20):\n",
    "        arrays.append(np.zeros((10000, 5000)))\n",
    "        sleep(0.1)\n",
    "    raise ValueError(\"Argh! I'm crashig!\")"
   ]
  },
  {
   "cell_type": "code",
   "execution_count": null,
   "id": "ca040eaa",
   "metadata": {},
   "outputs": [],
   "source": [
    "# The path where we will store the log\n",
    "path1 = \"/tmp/tracker_example.csv\"\n",
    "# The path where we will store the log with the crash\n",
    "path2 = \"/tmp/tracker_example_with_crash.csv\"\n",
    "\n",
    "# Create the tracker context\n",
    "with Tracker(path1):\n",
    "    example_function()\n",
    "\n",
    "# Wait between tracking to allow for memory to free\n",
    "sleep(20)\n",
    "\n",
    "# Create the tracker context to handle crashable libraries\n",
    "try:\n",
    "    with Tracker(path2, verbose=True):\n",
    "        example_function_which_crashes()\n",
    "except Exception:\n",
    "    pass\n",
    "\n",
    "print(\n",
    "    \"Successful: \", has_completed_successfully(path1),\n",
    "    \"Crashed gracefully: \", has_crashed_gracefully(path1),\n",
    "    \"Crashed ungracefully: \", has_crashed_ungracefully(path1)\n",
    ")\n",
    "\n",
    "print(\n",
    "    \"Successful: \", has_completed_successfully(path2),\n",
    "    \"Crashed gracefully: \", has_crashed_gracefully(path2),\n",
    "    \"Crashed ungracefully: \", has_crashed_ungracefully(path2)\n",
    ")"
   ]
  },
  {
   "cell_type": "code",
   "execution_count": null,
   "id": "01abd34e",
   "metadata": {},
   "outputs": [],
   "source": [
    "plot_reports([path1, path2])"
   ]
  }
 ],
 "metadata": {
  "kernelspec": {
   "display_name": "Python 3 (ipykernel)",
   "language": "python",
   "name": "python3"
  },
  "language_info": {
   "codemirror_mode": {
    "name": "ipython",
    "version": 3
   },
   "file_extension": ".py",
   "mimetype": "text/x-python",
   "name": "python",
   "nbconvert_exporter": "python",
   "pygments_lexer": "ipython3",
   "version": "3.7.13"
  }
 },
 "nbformat": 4,
 "nbformat_minor": 5
}
