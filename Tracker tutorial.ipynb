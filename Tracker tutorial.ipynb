{
 "cells": [
  {
   "cell_type": "code",
   "execution_count": 1,
   "id": "ca040eaa",
   "metadata": {},
   "outputs": [],
   "source": [
    "from memory_time_tracker import Tracker\n",
    "from time import sleep\n",
    "\n",
    "def example_function():\n",
    "    \"\"\"Small example of function that takes 1 second.\"\"\"\n",
    "    for _ in range(10):\n",
    "        sleep(0.1)\n",
    "\n",
    "with Tracker(\"/tmp/tracker.log\"):\n",
    "    example_function()"
   ]
  }
 ],
 "metadata": {
  "kernelspec": {
   "display_name": "Python 3 (ipykernel)",
   "language": "python",
   "name": "python3"
  },
  "language_info": {
   "codemirror_mode": {
    "name": "ipython",
    "version": 3
   },
   "file_extension": ".py",
   "mimetype": "text/x-python",
   "name": "python",
   "nbconvert_exporter": "python",
   "pygments_lexer": "ipython3",
   "version": "3.7.10"
  }
 },
 "nbformat": 4,
 "nbformat_minor": 5
}
